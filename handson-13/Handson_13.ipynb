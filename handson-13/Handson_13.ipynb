{
  "nbformat": 4,
  "nbformat_minor": 0,
  "metadata": {
    "colab": {
      "provenance": []
    },
    "kernelspec": {
      "name": "python3",
      "display_name": "Python 3"
    },
    "language_info": {
      "name": "python"
    }
  },
  "cells": [
    {
      "cell_type": "markdown",
      "source": [
        "# Hands-On 13"
      ],
      "metadata": {
        "id": "8TY99OlT-moZ"
      }
    },
    {
      "cell_type": "markdown",
      "source": [
        "**1. Topological sort**"
      ],
      "metadata": {
        "id": "IRlsULF7-n5J"
      }
    },
    {
      "cell_type": "code",
      "source": [
        "from collections import defaultdict\n",
        "\n",
        "class Graph:\n",
        "    def __init__(self):\n",
        "        self.graph = defaultdict(list)\n",
        "\n",
        "    def add_edge(self, u, v):\n",
        "        self.graph[u].append(v)\n",
        "\n",
        "    def topological_sort_util(self, v, visited, stack):\n",
        "        visited[v] = True\n",
        "\n",
        "        for i in self.graph[v]:\n",
        "            if not visited[i]:\n",
        "                self.topological_sort_util(i, visited, stack)\n",
        "\n",
        "        stack.append(v)\n",
        "\n",
        "    def topological_sort(self):\n",
        "        visited = [False] * len(self.graph)\n",
        "        stack = []\n",
        "\n",
        "        for i in range(len(self.graph)):\n",
        "            if not visited[i]:\n",
        "                self.topological_sort_util(i, visited, stack)\n",
        "\n",
        "        return stack[::-1]\n",
        "\n",
        "# Example usage:\n",
        "g = Graph()\n",
        "g.add_edge(5, 2)\n",
        "g.add_edge(5, 0)\n",
        "g.add_edge(4, 0)\n",
        "g.add_edge(4, 1)\n",
        "g.add_edge(2, 3)\n",
        "g.add_edge(3, 1)\n",
        "\n",
        "print(\"This is Topological Sort:\", g.topological_sort())\n"
      ],
      "metadata": {
        "colab": {
          "base_uri": "https://localhost:8080/"
        },
        "id": "pq3bAVJw-r25",
        "outputId": "59f2e236-9fa0-4cdb-a985-1b98a5876be3"
      },
      "execution_count": 1,
      "outputs": [
        {
          "output_type": "stream",
          "name": "stdout",
          "text": [
            "Topological Sort: [2, 3, 1, 0]\n"
          ]
        }
      ]
    },
    {
      "cell_type": "markdown",
      "source": [
        "**2. Depth-First Search**"
      ],
      "metadata": {
        "id": "KL968b9Q-2Ck"
      }
    },
    {
      "cell_type": "code",
      "source": [
        "from collections import defaultdict\n",
        "\n",
        "class Graph:\n",
        "    def __init__(self):\n",
        "        self.graph = defaultdict(list)\n",
        "\n",
        "    def add_edge(self, u, v):\n",
        "        self.graph[u].append(v)\n",
        "\n",
        "    def dfs_util(self, v, visited):\n",
        "        visited[v] = True\n",
        "        print(v, end=' ')\n",
        "\n",
        "        for i in self.graph[v]:\n",
        "            if not visited[i]:\n",
        "                self.dfs_util(i, visited)\n",
        "\n",
        "    def dfs(self, start):\n",
        "        visited = [False] * len(self.graph)\n",
        "        self.dfs_util(start, visited)\n",
        "\n",
        "# Example usage:\n",
        "g = Graph()\n",
        "g.add_edge(0, 1)\n",
        "g.add_edge(0, 2)\n",
        "g.add_edge(1, 2)\n",
        "g.add_edge(2, 0)\n",
        "g.add_edge(2, 3)\n",
        "g.add_edge(3, 3)\n",
        "\n",
        "print(\"This is Depth-First Traversal:\")\n",
        "g.dfs(2)\n"
      ],
      "metadata": {
        "colab": {
          "base_uri": "https://localhost:8080/"
        },
        "id": "kGaBxlLN-6EY",
        "outputId": "c1154d99-84d0-49cb-e1e0-59e0e528b30e"
      },
      "execution_count": 2,
      "outputs": [
        {
          "output_type": "stream",
          "name": "stdout",
          "text": [
            "Depth-First Traversal:\n",
            "2 0 1 3 "
          ]
        }
      ]
    },
    {
      "cell_type": "markdown",
      "source": [
        "**3. Kruskal algorithm**"
      ],
      "metadata": {
        "id": "WoV_xNVp-9_1"
      }
    },
    {
      "cell_type": "code",
      "source": [
        "class DisjointSet:\n",
        "    def __init__(self, vertices):\n",
        "        self.parent = {v: v for v in vertices}\n",
        "        self.rank = {v: 0 for v in vertices}\n",
        "\n",
        "    def find(self, vertex):\n",
        "        if self.parent[vertex] != vertex:\n",
        "            self.parent[vertex] = self.find(self.parent[vertex])\n",
        "        return self.parent[vertex]\n",
        "\n",
        "    def union(self, vertex1, vertex2):\n",
        "        root1 = self.find(vertex1)\n",
        "        root2 = self.find(vertex2)\n",
        "\n",
        "        if root1 != root2:\n",
        "            if self.rank[root1] > self.rank[root2]:\n",
        "                self.parent[root2] = root1\n",
        "            elif self.rank[root1] < self.rank[root2]:\n",
        "                self.parent[root1] = root2\n",
        "            else:\n",
        "                self.parent[root2] = root1\n",
        "                self.rank[root1] += 1\n",
        "\n",
        "\n",
        "def kruskal(graph):\n",
        "    edges = []\n",
        "    for u in graph:\n",
        "        for v, w in graph[u]:\n",
        "            edges.append((u, v, w))\n",
        "\n",
        "    edges.sort(key=lambda x: x[2])\n",
        "    vertices = set()\n",
        "    for u, v, w in edges:\n",
        "        vertices.add(u)\n",
        "        vertices.add(v)\n",
        "\n",
        "    disjoint_set = DisjointSet(vertices)\n",
        "    minimum_spanning_tree = []\n",
        "    for u, v, w in edges:\n",
        "        if disjoint_set.find(u) != disjoint_set.find(v):\n",
        "            disjoint_set.union(u, v)\n",
        "            minimum_spanning_tree.append((u, v, w))\n",
        "\n",
        "    return minimum_spanning_tree\n",
        "\n",
        "# Example usage:\n",
        "graph = {\n",
        "    'A': [('B', 4), ('H', 8)],\n",
        "    'B': [('A', 4), ('H', 11), ('C', 8)],\n",
        "    'C': [('B', 8), ('I', 2), ('D', 7), ('F', 4)],\n",
        "    'D': [('C', 7), ('F', 14), ('E', 9)],\n",
        "    'E': [('D', 9), ('F', 10)],\n",
        "    'F': [('C', 4), ('D', 14), ('E', 10), ('G', 2)],\n",
        "    'G': [('F', 2), ('I', 6), ('H', 1)],\n",
        "    'H': [('A', 8), ('B', 11), ('I', 7), ('G', 1)],\n",
        "    'I': [('C', 2), ('H', 7), ('G', 6)]\n",
        "}\n",
        "print(\"This is Kruskal algorithm:\", kruskal(graph))\n"
      ],
      "metadata": {
        "colab": {
          "base_uri": "https://localhost:8080/"
        },
        "id": "X_efaFoQ_Cgo",
        "outputId": "3b5c1a30-cfd2-4858-def3-9dcf86c730d4"
      },
      "execution_count": 4,
      "outputs": [
        {
          "output_type": "stream",
          "name": "stdout",
          "text": [
            "This is Kruskal algorithm: [('G', 'H', 1), ('C', 'I', 2), ('F', 'G', 2), ('A', 'B', 4), ('C', 'F', 4), ('C', 'D', 7), ('A', 'H', 8), ('D', 'E', 9)]\n"
          ]
        }
      ]
    }
  ]
}