{
  "nbformat": 4,
  "nbformat_minor": 0,
  "metadata": {
    "colab": {
      "provenance": []
    },
    "kernelspec": {
      "name": "python3",
      "display_name": "Python 3"
    },
    "language_info": {
      "name": "python"
    }
  },
  "cells": [
    {
      "cell_type": "markdown",
      "source": [
        "# Implement and test on examples from the book."
      ],
      "metadata": {
        "id": "S2xWGQxtVbe_"
      }
    },
    {
      "cell_type": "markdown",
      "source": [
        "1.  Dijkstra's algorithm"
      ],
      "metadata": {
        "id": "O43F0fmnVdRv"
      }
    },
    {
      "cell_type": "code",
      "source": [
        "import heapq\n",
        "\n",
        "def dijkstra(graph, start):\n",
        "    # Initialize distances to all vertices as infinity\n",
        "    distances = {vertex: float('inf') for vertex in graph}\n",
        "    # Distance from start vertex to itself is 0\n",
        "    distances[start] = 0\n",
        "\n",
        "    # Priority queue to store vertices with their distances\n",
        "    pq = [(0, start)]\n",
        "\n",
        "    while pq:\n",
        "        # Pop vertex with the smallest distance from the priority queue\n",
        "        current_distance, current_vertex = heapq.heappop(pq)\n",
        "\n",
        "        # If current distance is greater than already computed distance, skip\n",
        "        if current_distance > distances[current_vertex]:\n",
        "            continue\n",
        "\n",
        "        # Explore neighbors of current vertex\n",
        "        for neighbor, weight in graph[current_vertex].items():\n",
        "            distance = current_distance + weight\n",
        "            # Update distance if shorter path is found\n",
        "            if distance < distances[neighbor]:\n",
        "                distances[neighbor] = distance\n",
        "                # Add neighbor to priority queue\n",
        "                heapq.heappush(pq, (distance, neighbor))\n",
        "\n",
        "    return distances\n",
        "\n",
        "# Example graph from the book\n",
        "graph = {\n",
        "    'A': {'B': 1, 'C': 4},\n",
        "    'B': {'A': 1, 'C': 2, 'D': 5},\n",
        "    'C': {'A': 4, 'B': 2, 'D': 1},\n",
        "    'D': {'B': 5, 'C': 1}\n",
        "}\n",
        "\n",
        "start_vertex = 'A'\n",
        "distances = dijkstra(graph, start_vertex)\n",
        "print(\"Shortest distances from vertex\", start_vertex, \":\", distances)\n"
      ],
      "metadata": {
        "colab": {
          "base_uri": "https://localhost:8080/"
        },
        "id": "4e6ohUM3VjcA",
        "outputId": "15a0870e-0090-4d31-a4c5-2d626db4c09b"
      },
      "execution_count": 1,
      "outputs": [
        {
          "output_type": "stream",
          "name": "stdout",
          "text": [
            "Shortest distances from vertex A : {'A': 0, 'B': 1, 'C': 3, 'D': 4}\n"
          ]
        }
      ]
    },
    {
      "cell_type": "markdown",
      "source": [
        "2. Bellman-Ford algorithm"
      ],
      "metadata": {
        "id": "UerKwr4NVpBT"
      }
    },
    {
      "cell_type": "code",
      "source": [
        "def bellman_ford(graph, start):\n",
        "    distances = {vertex: float('infinity') for vertex in graph}\n",
        "    distances[start] = 0\n",
        "\n",
        "    for _ in range(len(graph) - 1):\n",
        "        for u in graph:\n",
        "            for v, w in graph[u].items():\n",
        "                if distances[u] + w < distances[v]:\n",
        "                    distances[v] = distances[u] + w\n",
        "\n",
        "    # Check for negative cycles\n",
        "    for u in graph:\n",
        "        for v, w in graph[u].items():\n",
        "            if distances[u] + w < distances[v]:\n",
        "                print(\"Graph contains negative cycle\")\n",
        "                return\n",
        "\n",
        "    return distances\n",
        "\n",
        "# Example graph from the book\n",
        "graph = {\n",
        "    'A': {'B': -1, 'C': 4},\n",
        "    'B': {'A': 1, 'C': 2, 'D': 5},\n",
        "    'C': {'D': 1},\n",
        "    'D': {'B': 3, 'C': 1}\n",
        "}\n",
        "\n",
        "start_vertex = 'A'\n",
        "distances = bellman_ford(graph, start_vertex)\n",
        "print(\"Shortest distances from vertex\", start_vertex, \": \", distances)\n"
      ],
      "metadata": {
        "colab": {
          "base_uri": "https://localhost:8080/"
        },
        "id": "vn4kjHI3Vuoc",
        "outputId": "d6e3b241-7f21-4846-a5c1-ddb404efb15f"
      },
      "execution_count": 2,
      "outputs": [
        {
          "output_type": "stream",
          "name": "stdout",
          "text": [
            "Shortest distances from vertex A :  {'A': 0, 'B': -1, 'C': 1, 'D': 2}\n"
          ]
        }
      ]
    },
    {
      "cell_type": "markdown",
      "source": [
        "3. Floyd-Warshall algorithm"
      ],
      "metadata": {
        "id": "Sx80sXU1Vyf1"
      }
    },
    {
      "cell_type": "code",
      "source": [
        "def floyd_warshall(graph):\n",
        "    num_vertices = len(graph)\n",
        "    distances = [[float('infinity')] * num_vertices for _ in range(num_vertices)]\n",
        "\n",
        "    for i in range(num_vertices):\n",
        "        distances[i][i] = 0\n",
        "\n",
        "    for vertex1 in graph:\n",
        "        for vertex2, weight in graph[vertex1].items():\n",
        "            distances[vertex1][vertex2] = weight\n",
        "\n",
        "    for k in range(num_vertices):\n",
        "        for i in range(num_vertices):\n",
        "            for j in range(num_vertices):\n",
        "                if distances[i][k] + distances[k][j] < distances[i][j]:\n",
        "                    distances[i][j] = distances[i][k] + distances[k][j]\n",
        "\n",
        "    return distances\n",
        "\n",
        "# Example graph from the book\n",
        "graph = {\n",
        "    0: {1: 3, 2: 8, 4: -4},\n",
        "    1: {3: 1, 4: 7},\n",
        "    2: {1: 4},\n",
        "    3: {0: 2, 2: -5},\n",
        "    4: {3: 6}\n",
        "}\n",
        "\n",
        "all_distances = floyd_warshall(graph)\n",
        "print(\"All-pairs shortest distances:\")\n",
        "for i in range(len(all_distances)):\n",
        "    print(all_distances[i])\n"
      ],
      "metadata": {
        "colab": {
          "base_uri": "https://localhost:8080/"
        },
        "id": "7N88ma2iV9N1",
        "outputId": "4cec7ad4-f894-4a24-c0d4-3def610a0f02"
      },
      "execution_count": 3,
      "outputs": [
        {
          "output_type": "stream",
          "name": "stdout",
          "text": [
            "All-pairs shortest distances:\n",
            "[0, 1, -3, 2, -4]\n",
            "[3, 0, -4, 1, -1]\n",
            "[7, 4, 0, 5, 3]\n",
            "[2, -1, -5, 0, -2]\n",
            "[8, 5, 1, 6, 0]\n"
          ]
        }
      ]
    }
  ]
}