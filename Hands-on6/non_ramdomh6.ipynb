{
  "nbformat": 4,
  "nbformat_minor": 0,
  "metadata": {
    "colab": {
      "provenance": []
    },
    "kernelspec": {
      "name": "python3",
      "display_name": "Python 3"
    },
    "language_info": {
      "name": "python"
    }
  },
  "cells": [
    {
      "cell_type": "markdown",
      "source": [
        "**Non-random**"
      ],
      "metadata": {
        "id": "bxtJhDBRK23W"
      }
    },
    {
      "cell_type": "code",
      "source": [
        "def partition(arr, low, high):\n",
        "    pivot = arr[high]  # Choosing the last element as the pivot\n",
        "    i = low - 1\n",
        "\n",
        "    for j in range(low, high):\n",
        "        if arr[j] <= pivot:\n",
        "            i += 1\n",
        "            arr[i], arr[j] = arr[j], arr[i]\n",
        "\n",
        "    arr[i + 1], arr[high] = arr[high], arr[i + 1]\n",
        "    return i + 1\n",
        "\n",
        "def quicksort_nonrandom(arr, low, high):\n",
        "    if low < high:\n",
        "        pivot_index = partition(arr, low, high)\n",
        "        quicksort_nonrandom(arr, low, pivot_index - 1)\n",
        "        quicksort_nonrandom(arr, pivot_index + 1, high)\n",
        "\n",
        "# Example usage:\n",
        "arr = [3, 6, 8, 10, 1, 2, 1]\n",
        "quicksort_nonrandom(arr, 0, len(arr) - 1)\n",
        "print(\"Sorted array:\", arr)\n"
      ],
      "metadata": {
        "colab": {
          "base_uri": "https://localhost:8080/"
        },
        "id": "3C9eMLk9K4dX",
        "outputId": "31045dce-fac9-4fe8-8e43-b3dc603d2919"
      },
      "execution_count": 1,
      "outputs": [
        {
          "output_type": "stream",
          "name": "stdout",
          "text": [
            "Sorted array: [1, 1, 2, 3, 6, 8, 10]\n"
          ]
        }
      ]
    }
  ]
}