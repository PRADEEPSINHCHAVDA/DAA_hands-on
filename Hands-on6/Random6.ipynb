{
  "nbformat": 4,
  "nbformat_minor": 0,
  "metadata": {
    "colab": {
      "provenance": []
    },
    "kernelspec": {
      "name": "python3",
      "display_name": "Python 3"
    },
    "language_info": {
      "name": "python"
    }
  },
  "cells": [
    {
      "cell_type": "markdown",
      "source": [
        "**Random**"
      ],
      "metadata": {
        "id": "-w2zGNDwLPbj"
      }
    },
    {
      "cell_type": "code",
      "source": [
        "import random\n",
        "\n",
        "def partition(arr, low, high):\n",
        "    pivot_index = random.randint(low, high)  # Randomly choose pivot index\n",
        "    pivot = arr[pivot_index]\n",
        "    arr[pivot_index], arr[high] = arr[high], arr[pivot_index]  # Move pivot to the end\n",
        "    i = low - 1\n",
        "\n",
        "    for j in range(low, high):\n",
        "        if arr[j] <= pivot:\n",
        "            i += 1\n",
        "            arr[i], arr[j] = arr[j], arr[i]\n",
        "\n",
        "    arr[i + 1], arr[high] = arr[high], arr[i + 1]\n",
        "    return i + 1\n",
        "\n",
        "def quicksort_random(arr, low, high):\n",
        "    if low < high:\n",
        "        pivot_index = partition(arr, low, high)\n",
        "        quicksort_random(arr, low, pivot_index - 1)\n",
        "        quicksort_random(arr, pivot_index + 1, high)\n",
        "\n",
        "# Example usage:\n",
        "arr = [3, 6, 8, 10, 1, 2, 1]\n",
        "quicksort_random(arr, 0, len(arr) - 1)\n",
        "print(\"Sorted array:\", arr)\n"
      ],
      "metadata": {
        "colab": {
          "base_uri": "https://localhost:8080/"
        },
        "id": "uZZ8gURALPs_",
        "outputId": "ff1098e3-c9cf-4b70-969e-d5c6df4483ec"
      },
      "execution_count": 1,
      "outputs": [
        {
          "output_type": "stream",
          "name": "stdout",
          "text": [
            "Sorted array: [1, 1, 2, 3, 6, 8, 10]\n"
          ]
        }
      ]
    }
  ]
}